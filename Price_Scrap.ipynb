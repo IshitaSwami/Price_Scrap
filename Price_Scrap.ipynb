{
 "cells": [
  {
   "cell_type": "code",
   "execution_count": 21,
   "metadata": {},
   "outputs": [],
   "source": [
    "import requests\n",
    "import os\n",
    "import pandas as pd\n",
    "from bs4 import BeautifulSoup"
   ]
  },
  {
   "cell_type": "code",
   "execution_count": 26,
   "metadata": {},
   "outputs": [],
   "source": [
    "url1 = [\"https://www.flipkart.com/bombay-buta-pure-cotton-printed-salwar-suit-material/p/itme922a98a87ffa?pid=FABGH9CZA8UTHMZY&lid=LSTFABGH9CZA8UTHMZYIEGPWH&marketplace=FLIPKART&store=clo%2Fqfi%2Fxcx%2Fms4&srno=b_1_2&otracker=hp_rich_navigation_6_1.navigationCard.RICH_NAVIGATION_Fashion~Women%2BEthnic~Women%2BDress%2BMaterials_AV7G3ATDMOJV&otracker1=hp_rich_navigation_PINNED_neo%2Fmerchandising_NA_NAV_EXPANDABLE_navigationCard_cc_6_L2_view-all&fm=organic&iid=en_6WPN07_4dc8_k8Gp50tsHi93JdEQ_8Rm4ySUm0ypxKP3pP9ykrgs0G8WfURovyGRALXibS8CdoCifa_93os5uA%3D%3D&ppt=browse&ppn=browse&ssid=r4bnchuufk0000001689182409042\",\n",
    "        \"https://www.flipkart.com/fluffies-3x3-speedcube-high-speed-smooth-turning-magic-cube-puzzle-brainteaser-rubic/p/itm5089009b488a2?pid=PUZGJ74KBGGKNAGP&lid=LSTPUZGJ74KBGGKNAGPWAVHKC&marketplace=FLIPKART&fm=neo%2Fmerchandising&iid=M_8dbd26bc-cb8e-48fe-a690-50ef9304face_11_0QSUNVNUV7Y1_MC.PUZGJ74KBGGKNAGP&ppt=pp&ppn=pp&ssid=r4bnchuufk0000001689182409042&otracker=clp_pmu_v2_Indoor%2BToys_2_11.productCard.PMU_V2_fluffies%2B3x3%2BSpeedCube%2BHigh%2BSpeed%2BSmooth%2BTurning%2BMagic%2BCube%2BPuzzle%2BBrainteaser-RUBIC%2BCUBE_toysclp-store_PUZGJ74KBGGKNAGP_neo%2Fmerchandising_1&otracker1=clp_pmu_v2_PINNED_neo%2Fmerchandising_Indoor%2BToys_LIST_productCard_cc_2_NA_view-all&cid=PUZGJ74KBGGKNAGP\"]"
   ]
  },
  {
   "cell_type": "code",
   "execution_count": 23,
   "metadata": {},
   "outputs": [],
   "source": [
    "def extract(url):\n",
    "    webpage = requests.get(url)\n",
    "    web = webpage.content\n",
    "    soup = BeautifulSoup(web, \"html.parser\")\n",
    "    value = soup.find(\"div\",{\"class\":\"_30jeq3 _16Jk6d\"})\n",
    "    m= value.text\n",
    "    print(m)"
   ]
  },
  {
   "cell_type": "code",
   "execution_count": 24,
   "metadata": {},
   "outputs": [
    {
     "name": "stdout",
     "output_type": "stream",
     "text": [
      "₹899\n"
     ]
    }
   ],
   "source": [
    "result = [extract(url) for url in url1]"
   ]
  },
  {
   "cell_type": "code",
   "execution_count": null,
   "metadata": {},
   "outputs": [],
   "source": []
  }
 ],
 "metadata": {
  "kernelspec": {
   "display_name": "Python 3",
   "language": "python",
   "name": "python3"
  },
  "language_info": {
   "codemirror_mode": {
    "name": "ipython",
    "version": 3
   },
   "file_extension": ".py",
   "mimetype": "text/x-python",
   "name": "python",
   "nbconvert_exporter": "python",
   "pygments_lexer": "ipython3",
   "version": "3.8.3"
  }
 },
 "nbformat": 4,
 "nbformat_minor": 4
}
